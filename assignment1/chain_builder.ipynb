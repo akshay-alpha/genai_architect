{
 "cells": [
  {
   "cell_type": "code",
   "execution_count": null,
   "id": "b57541a0",
   "metadata": {},
   "outputs": [],
   "source": [
    "!python -m pip install langchain langchain-core langchain-community langchain-experimental --quiet\n",
    "!python -m pip install langchain-openai --quiet\n",
    "\n",
    "!python -m pip install mlflow openai dspy litellm textstat evaluate --quiet\n",
    "!python -m pip install --upgrade mlflow --quiet\n",
    "\n",
    "%pip install --upgrade --quiet  yfinance"
   ]
  },
  {
   "cell_type": "code",
   "execution_count": 1,
   "id": "17c5c452",
   "metadata": {},
   "outputs": [
    {
     "name": "stderr",
     "output_type": "stream",
     "text": [
      "/home/zadmin/Desktop/GAAI-B4-Azure/genai/lib/python3.12/site-packages/tqdm/auto.py:21: TqdmWarning: IProgress not found. Please update jupyter and ipywidgets. See https://ipywidgets.readthedocs.io/en/stable/user_install.html\n",
      "  from .autonotebook import tqdm as notebook_tqdm\n",
      "USER_AGENT environment variable not set, consider setting it to identify your requests.\n"
     ]
    }
   ],
   "source": [
    "import os\n",
    "from dotenv import load_dotenv\n",
    "load_dotenv()\n",
    "\n",
    "from langchain_openai import AzureChatOpenAI\n",
    "from langchain_core.prompts import ChatPromptTemplate, PromptTemplate\n",
    "from langchain_core.output_parsers import StrOutputParser, JsonOutputParser\n",
    "from langchain_community.tools.yahoo_finance_news import YahooFinanceNewsTool"
   ]
  },
  {
   "cell_type": "code",
   "execution_count": 2,
   "id": "84f0a864",
   "metadata": {},
   "outputs": [],
   "source": [
    "model_name='gpt4o'\n",
    "model = AzureChatOpenAI(model=model_name)"
   ]
  },
  {
   "cell_type": "code",
   "execution_count": 3,
   "id": "96c5545c",
   "metadata": {},
   "outputs": [],
   "source": [
    "import mlflow\n",
    "mlflow.set_tracking_uri(\"http://20.75.92.162:5000/\")"
   ]
  },
  {
   "cell_type": "code",
   "execution_count": 4,
   "id": "6ba5c396",
   "metadata": {},
   "outputs": [],
   "source": [
    "# Load the prompt\n",
    "akshay_stock_code_generator = mlflow.genai.load_prompt(\"prompts:/akshay_stock_code_generator/1\") # prompts:/<prompt-name>/<prompt-version>\n",
    "\n",
    "\n",
    "akshay_sentiment_analyser = mlflow.genai.load_prompt(\"prompts:/akshay_sentiment_analyser/1\") # prompts:/<prompt-name>/<prompt-version>\n"
   ]
  },
  {
   "cell_type": "code",
   "execution_count": null,
   "id": "dc270ef3",
   "metadata": {},
   "outputs": [
    {
     "data": {
      "text/plain": [
       "ChatPromptTemplate(input_variables=['company_name'], input_types={}, partial_variables={}, messages=[SystemMessagePromptTemplate(prompt=PromptTemplate(input_variables=[], input_types={}, partial_variables={}, template='For the given company name provide the stock code'), additional_kwargs={}), HumanMessagePromptTemplate(prompt=PromptTemplate(input_variables=['company_name'], input_types={}, partial_variables={}, template='what is the stock code for given company, \\n                                              Provide only stock code\\n                                              Strictly Donot provide any other details, If company name is not valid, ask valid.  \\n                                              company name: {company_name}\\n                                            '), additional_kwargs={})])"
      ]
     },
     "execution_count": 13,
     "metadata": {},
     "output_type": "execute_result"
    }
   ],
   "source": [
    "# get the company stock code of the given company\n",
    "company_name_prompt = ChatPromptTemplate([(\"system\",\"For the given company name provide the stock code\"), \n",
    "                                            (\"user\", akshay_stock_code_generator.template\n",
    "                                          \n",
    "                                            )])"
   ]
  },
  {
   "cell_type": "code",
   "execution_count": null,
   "id": "4b4f9efa",
   "metadata": {},
   "outputs": [],
   "source": [
    "# output parser\n",
    "parser = StrOutputParser()"
   ]
  },
  {
   "cell_type": "code",
   "execution_count": null,
   "id": "745318c7",
   "metadata": {},
   "outputs": [
    {
     "name": "stderr",
     "output_type": "stream",
     "text": [
      "USER_AGENT environment variable not set, consider setting it to identify your requests.\n"
     ]
    }
   ],
   "source": [
    "# import the yahoo finance news tool api\n",
    "news_tool = YahooFinanceNewsTool()"
   ]
  },
  {
   "cell_type": "code",
   "execution_count": 17,
   "id": "0f45d33f",
   "metadata": {},
   "outputs": [],
   "source": [
    "sentiment_analyser_prompt = ChatPromptTemplate([(\"system\",\"Extract the consise headlines from the news description \" ), \n",
    "                                        (\"user\", akshay_sentiment_analyser.template)\n",
    "                                        \n",
    "\n",
    "])\n"
   ]
  },
  {
   "cell_type": "code",
   "execution_count": 22,
   "id": "228b7a49",
   "metadata": {},
   "outputs": [
    {
     "name": "stdout",
     "output_type": "stream",
     "text": [
      "[\n",
      "    {\n",
      "        \"summary\": \"Morgan Stanley Maintains Overweight Rating on Amazon (AMZN) Amid Fresh Grocery Expansion\",\n",
      "        \"sentiment\": \"Positive\",\n",
      "        \"entities\": {\n",
      "            \"people\": [],\n",
      "            \"places\": [],\n",
      "            \"companies\": [\"Morgan Stanley\", \"Amazon.com, Inc.\"]\n",
      "        }\n",
      "    }\n",
      "]\n"
     ]
    }
   ],
   "source": [
    "chain = company_name_prompt | model | parser | news_tool | sentiment_analyser_prompt | model | parser\n",
    "final_response = chain.invoke({\"company_name\":\"Amazon\"})\n",
    "print(final_response)"
   ]
  },
  {
   "cell_type": "code",
   "execution_count": null,
   "id": "1f94494c",
   "metadata": {},
   "outputs": [],
   "source": []
  }
 ],
 "metadata": {
  "kernelspec": {
   "display_name": "genai",
   "language": "python",
   "name": "python3"
  },
  "language_info": {
   "codemirror_mode": {
    "name": "ipython",
    "version": 3
   },
   "file_extension": ".py",
   "mimetype": "text/x-python",
   "name": "python",
   "nbconvert_exporter": "python",
   "pygments_lexer": "ipython3",
   "version": "3.12.3"
  }
 },
 "nbformat": 4,
 "nbformat_minor": 5
}
