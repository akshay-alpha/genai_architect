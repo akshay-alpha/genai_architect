{
 "cells": [
  {
   "cell_type": "code",
   "execution_count": 1,
   "id": "b6e9b5a1",
   "metadata": {},
   "outputs": [],
   "source": [
    "import os\n",
    "import pandas as pd\n",
    "import chromadb\n",
    "import uuid"
   ]
  },
  {
   "cell_type": "code",
   "execution_count": 2,
   "id": "bf728554",
   "metadata": {},
   "outputs": [
    {
     "name": "stderr",
     "output_type": "stream",
     "text": [
      "/home/zadmin/Desktop/GAAI-B4-Azure/genai/lib/python3.12/site-packages/tqdm/auto.py:21: TqdmWarning: IProgress not found. Please update jupyter and ipywidgets. See https://ipywidgets.readthedocs.io/en/stable/user_install.html\n",
      "  from .autonotebook import tqdm as notebook_tqdm\n"
     ]
    }
   ],
   "source": [
    "from langchain_openai import AzureOpenAIEmbeddings\n",
    "\n",
    "embeddings = AzureOpenAIEmbeddings(\n",
    "    azure_deployment = \"text-embedding-3-small\",\n",
    "    azure_endpoint = \"https://eastus.api.cognitive.microsoft.com/\",\n",
    "    api_key = \"27a3e6d835d44c298e146a73c7abdedd\",\n",
    "\n",
    ")"
   ]
  },
  {
   "cell_type": "code",
   "execution_count": 3,
   "id": "3c4080e2",
   "metadata": {},
   "outputs": [],
   "source": [
    "def generate_embeddings(x):\n",
    "    # generate the embedding for the given text and return embeddings\n",
    "    return embeddings.embed_query(x)"
   ]
  },
  {
   "cell_type": "code",
   "execution_count": 4,
   "id": "7eaa7c37",
   "metadata": {},
   "outputs": [
    {
     "name": "stdout",
     "output_type": "stream",
     "text": [
      "Number of docs dumped into vector DB\n",
      "25\n"
     ]
    }
   ],
   "source": [
    "# read the data from source\n",
    "input_df = pd.read_csv(r\"/home/zadmin/Desktop/aksh_assignment/assignment2/assignment2dataset.csv\")\n",
    "\n",
    "input_df['title_desc'] = input_df.apply(lambda x: str({'title': x['title'], 'description': x['description']}), axis=1)\n",
    "\n",
    "\n",
    "# apply the embedding generation function on the title_desc column\n",
    "input_df['title_desc_emb'] = input_df.apply(lambda x: generate_embeddings(x['title_desc']), axis=1)\n",
    "\n",
    "\n",
    "#load the vector db\n",
    "\n",
    "chroma_client = chromadb.Client()\n",
    "collection_name = 'course_description'\n",
    "collection = chroma_client.get_or_create_collection(name=collection_name)\n",
    "\n",
    "ids = [str(uuid.uuid4()) for _ in range(len(input_df))]\n",
    "\n",
    "# add documents\n",
    "collection.add( \n",
    "    ids = ids,\n",
    "    documents = input_df['title_desc'].to_list(),\n",
    "    metadatas=  input_df.drop(columns=[\"title_desc\", \"title_desc_emb\"], axis=1).to_dict(orient=\"records\"), \n",
    "    embeddings = input_df['title_desc_emb'].to_list()   \n",
    ")\n",
    "\n",
    "print(\"Number of docs dumped into vector DB\")\n",
    "print(len(collection.get()['ids']))"
   ]
  },
  {
   "cell_type": "code",
   "execution_count": 5,
   "id": "2bc92a30",
   "metadata": {},
   "outputs": [],
   "source": [
    "from langchain_core.prompts import PromptTemplate\n",
    "from langchain_core.runnables import RunnablePassthrough\n",
    "\n",
    "\n",
    "message = \"\"\"\n",
    "You are an intelligent course recommendation assistant, You are provided with the question, \n",
    "Course which are completed and their interst blurb. Provide the crisp and precise output based on the context.\n",
    "You are not supposed to answer anything from outside the context.\n",
    "If the context does not have the content to answer the question\n",
    "\n",
    "\n",
    "Input: \n",
    "{question}\n",
    "\n",
    "Context:\n",
    "{context}\n",
    "\"\"\"\n",
    "\n",
    "prompt = PromptTemplate.from_template(message)\n"
   ]
  },
  {
   "cell_type": "code",
   "execution_count": 12,
   "id": "d6e3bd0f",
   "metadata": {},
   "outputs": [],
   "source": [
    "from langchain_openai import AzureChatOpenAI\n",
    "model_name = \"gpt4o\"\n",
    "llm = AzureChatOpenAI(model= model_name,\n",
    "                    api_key = \"27a3e6d835d44c298e146a73c7abdedd\",\n",
    "                    azure_endpoint = \"https://eastus.api.cognitive.microsoft.com/\",\n",
    "                    api_version = \"2024-08-01-preview\"\n",
    ")"
   ]
  },
  {
   "cell_type": "code",
   "execution_count": 13,
   "id": "88f23a52",
   "metadata": {},
   "outputs": [],
   "source": [
    "from typing_extensions import List, TypedDict\n",
    "from langchain_core.documents import Document\n",
    "\n",
    "class mystate(TypedDict):\n",
    "    question:str\n",
    "    collection_name: str\n",
    "    question_emb: List\n",
    "    context: List[Document]\n",
    "    prompt: str\n",
    "    answer: str"
   ]
  },
  {
   "cell_type": "code",
   "execution_count": 19,
   "id": "6bf44d30",
   "metadata": {},
   "outputs": [],
   "source": [
    "def chunk_retriever(state: mystate) -> mystate:\n",
    "    question = state['question']\n",
    "    print(question)\n",
    "    question_emb = generate_embeddings(question)\n",
    "    response = collection.query(query_embeddings = question_emb,\n",
    "                 n_results=2, \n",
    "                  )\n",
    "    generated_context = ', '.join(response['documents'][0])\n",
    "    return {\"context\":generated_context, \"question_emb\":question_emb} \n",
    "    \n",
    "\n",
    "\n",
    "# generation node\n",
    "def generate(state:mystate)->mystate:\n",
    "    doc_content = state['context']\n",
    "    messages = prompt.invoke({\"question\":state['question'],\"context\":doc_content})\n",
    "    response = llm.invoke(messages)\n",
    "    return {\"prompt\": prompt, \"answer\":response.content}\n",
    "    "
   ]
  },
  {
   "cell_type": "code",
   "execution_count": 21,
   "id": "c344c494",
   "metadata": {},
   "outputs": [
    {
     "data": {
      "image/png": "[encoded data removed]",
      "text/plain": [
       "<langgraph.graph.state.CompiledStateGraph object at 0x710d827378c0>"
      ]
     },
     "execution_count": 21,
     "metadata": {},
     "output_type": "execute_result"
    }
   ],
   "source": [
    "from langgraph.graph import START, StateGraph\n",
    "\n",
    "builder = StateGraph(mystate)\n",
    "builder.add_sequence([chunk_retriever,generate])\n",
    "builder.add_edge(START,\"chunk_retriever\")\n",
    "graph = builder.compile()\n",
    "graph"
   ]
  },
  {
   "cell_type": "code",
   "execution_count": 30,
   "id": "d220b2f2",
   "metadata": {},
   "outputs": [
    {
     "name": "stdout",
     "output_type": "stream",
     "text": [
      " I’ve completed the ‘Python Programming for Data Science’ course and enjoy data visualization. What should I take next?\n",
      "Question:   I’ve completed the ‘Python Programming for Data Science’ course and enjoy data visualization. What should I take next? \n",
      "Answer:  Based on your interest in data visualization and your completion of the 'Python Programming for Data Science' course, you should consider taking the 'Data Visualization with Tableau' course. This course will enhance your skills in transforming data into visual stories and creating interactive dashboards, which aligns well with your interests.\n"
     ]
    }
   ],
   "source": [
    "question = \"\"\" I’ve completed the ‘Python Programming for Data Science’ course and enjoy data visualization. What should I take next?\"\"\"\n",
    "\n",
    "response = graph.invoke({\"question\": question})\n",
    "print(\"Question: \", response['question'], \"\\nAnswer: \", response['answer'])"
   ]
  },
  {
   "cell_type": "code",
   "execution_count": 31,
   "id": "82c5552c",
   "metadata": {},
   "outputs": [
    {
     "name": "stdout",
     "output_type": "stream",
     "text": [
      " “I know Azure basics and want to manage containers and build CI/CD pipelines. \n",
      "Recommend courses. \n",
      "Question:   “I know Azure basics and want to manage containers and build CI/CD pipelines. \n",
      "Recommend courses.  \n",
      "Answer:  Based on your knowledge of Azure basics and your interest in managing containers and building CI/CD pipelines, I recommend the following course:\n",
      "\n",
      "**Containerization with Docker and Kubernetes**: This course will teach you container fundamentals with Docker and advance to Kubernetes for orchestration, which is essential for managing containers. It covers deployment of microservices architectures and includes hands-on labs to ensure reliability and streamlined DevOps workflows.\n"
     ]
    }
   ],
   "source": [
    "question = \"\"\" “I know Azure basics and want to manage containers and build CI/CD pipelines. \n",
    "Recommend courses. \"\"\"\n",
    "\n",
    "response = graph.invoke({\"question\": question})\n",
    "print(\"Question: \", response['question'], \"\\nAnswer: \", response['answer'])"
   ]
  },
  {
   "cell_type": "code",
   "execution_count": 32,
   "id": "c5ad8189",
   "metadata": {},
   "outputs": [
    {
     "name": "stdout",
     "output_type": "stream",
     "text": [
      " My background is in ML fundamentals; I’d like to specialize in neural networks and \n",
      "production workflows. \n",
      "Question:   My background is in ML fundamentals; I’d like to specialize in neural networks and \n",
      "production workflows.  \n",
      "Answer:  Based on your background in ML fundamentals and interest in specializing in neural networks and production workflows, I recommend the following courses:\n",
      "\n",
      "1. **MLOps: Productionizing Machine Learning** - This course focuses on deploying and maintaining ML models at scale, which aligns with your interest in production workflows. You'll learn about model versioning, containerization, CI/CD, and building end-to-end pipelines.\n",
      "\n",
      "2. **Foundations of Machine Learning** - This course will strengthen your understanding of foundational ML algorithms and concepts that are essential before diving deeper into specialized areas like neural networks.\n"
     ]
    }
   ],
   "source": [
    "question = \"\"\" My background is in ML fundamentals; I’d like to specialize in neural networks and \n",
    "production workflows. \"\"\"\n",
    "\n",
    "response = graph.invoke({\"question\": question})\n",
    "print(\"Question: \", response['question'], \"\\nAnswer: \", response['answer'])"
   ]
  },
  {
   "cell_type": "code",
   "execution_count": 33,
   "id": "b9b22e90",
   "metadata": {},
   "outputs": [
    {
     "name": "stdout",
     "output_type": "stream",
     "text": [
      " I want to learn to build and deploy microservices with Kubernetes—what courses fit \n",
      "best? \n",
      "Question:   I want to learn to build and deploy microservices with Kubernetes—what courses fit \n",
      "best?  \n",
      "Answer:  Based on your interest in building and deploying microservices with Kubernetes, the following courses fit best:\n",
      "\n",
      "1. **Containerization with Docker and Kubernetes**: This course covers container fundamentals with Docker and advances to Kubernetes for orchestration, including deploying microservices architectures on a Kubernetes cluster.\n",
      "\n",
      "2. **APIs and Microservices Architecture**: This course focuses on designing and implementing microservices with RESTful and GraphQL APIs, along with containerized deployment and microservices patterns, which are integral for managing services in a Kubernetes environment.\n"
     ]
    }
   ],
   "source": [
    "question = \"\"\" I want to learn to build and deploy microservices with Kubernetes—what courses fit \n",
    "best? \"\"\"\n",
    "\n",
    "response = graph.invoke({\"question\": question})\n",
    "print(\"Question: \", response['question'], \"\\nAnswer: \", response['answer'])"
   ]
  },
  {
   "cell_type": "code",
   "execution_count": 34,
   "id": "d648dbd7",
   "metadata": {},
   "outputs": [
    {
     "name": "stdout",
     "output_type": "stream",
     "text": [
      " I’m interested in blockchain and smart contracts but have no prior experience. Which \n",
      "courses do you suggest? \n",
      "Question:   I’m interested in blockchain and smart contracts but have no prior experience. Which \n",
      "courses do you suggest?  \n",
      "Answer:  I recommend the course titled **\"Blockchain Technology and Smart Contracts.\"** This course will help you understand blockchain fundamentals and learn to develop smart contracts using Solidity on Ethereum, making it suitable for someone with no prior experience in the field.\n"
     ]
    }
   ],
   "source": [
    "\n",
    "\n",
    "question = \"\"\" I’m interested in blockchain and smart contracts but have no prior experience. Which \n",
    "courses do you suggest? \"\"\"\n",
    "\n",
    "response = graph.invoke({\"question\": question})\n",
    "print(\"Question: \", response['question'], \"\\nAnswer: \", response['answer'])"
   ]
  }
 ],
 "metadata": {
  "kernelspec": {
   "display_name": "genai",
   "language": "python",
   "name": "python3"
  },
  "language_info": {
   "codemirror_mode": {
    "name": "ipython",
    "version": 3
   },
   "file_extension": ".py",
   "mimetype": "text/x-python",
   "name": "python",
   "nbconvert_exporter": "python",
   "pygments_lexer": "ipython3",
   "version": "3.12.3"
  }
 },
 "nbformat": 4,
 "nbformat_minor": 5
}
