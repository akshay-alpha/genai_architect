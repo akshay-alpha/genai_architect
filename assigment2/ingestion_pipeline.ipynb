{
 "cells": [
  {
   "cell_type": "code",
   "execution_count": null,
   "id": "980a5b9d",
   "metadata": {},
   "outputs": [],
   "source": [
    "import os\n",
    "import pandas as pd\n",
    "from dotenv import load_dotenv\n",
    "load_dotenv()"
   ]
  },
  {
   "cell_type": "code",
   "execution_count": null,
   "id": "facd96b2",
   "metadata": {},
   "outputs": [],
   "source": [
    "# print(\"Key:\", os.getenv(\"AZURE_OPENAI_API_KEY\"))\n",
    "# print(\"Endpoint:\", os.getenv(\"azure_endpoint\"))\n",
    "# print('deployment:', os.getenv(\"azure_embedding_deployment\"))\n"
   ]
  },
  {
   "cell_type": "markdown",
   "id": "35c257f2",
   "metadata": {},
   "source": [
    "# create embeddings"
   ]
  },
  {
   "cell_type": "code",
   "execution_count": null,
   "id": "22a3436c",
   "metadata": {},
   "outputs": [],
   "source": [
    "from langchain_openai import AzureOpenAIEmbeddings\n",
    "\n",
    "embeddings = AzureOpenAIEmbeddings(\n",
    "    azure_deployment = \"text-embedding-3-small\",\n",
    "    azure_endpoint = \"https://eastus.api.cognitive.microsoft.com/\",\n",
    "    api_key = \"27a3e6d835d44c298e146a73c7abdedd\",\n",
    "\n",
    ")"
   ]
  },
  {
   "cell_type": "code",
   "execution_count": null,
   "id": "1a99416f",
   "metadata": {},
   "outputs": [],
   "source": [
    "def generate_embeddings(x):\n",
    "    # generate the embedding for the given text and return embeddings\n",
    "    return embeddings.embed_query(x)"
   ]
  },
  {
   "cell_type": "code",
   "execution_count": null,
   "id": "58f417b5",
   "metadata": {},
   "outputs": [],
   "source": [
    "# read the data from source\n",
    "input_df = pd.read_csv(r\"/home/zadmin/Desktop/aksh_assignment/assignment2/assignment2dataset.csv\")\n",
    "input_df.head()"
   ]
  },
  {
   "cell_type": "code",
   "execution_count": null,
   "id": "65d36b74",
   "metadata": {},
   "outputs": [],
   "source": [
    "input_df['title_desc'] = input_df.apply(lambda x: str({'title': x['title'], 'description': x['description']}), axis=1)\n"
   ]
  },
  {
   "cell_type": "code",
   "execution_count": null,
   "id": "6820dcdd",
   "metadata": {},
   "outputs": [],
   "source": [
    "input_df.head()"
   ]
  },
  {
   "cell_type": "code",
   "execution_count": null,
   "id": "0178b19a",
   "metadata": {},
   "outputs": [],
   "source": [
    "# apply the embedding generation function on the title_desc column\n",
    "input_df['title_desc_emb'] = input_df.apply(lambda x: generate_embeddings(x['title_desc']), axis=1)"
   ]
  },
  {
   "cell_type": "markdown",
   "id": "2490f635",
   "metadata": {},
   "source": [
    "# load vector db"
   ]
  },
  {
   "cell_type": "code",
   "execution_count": null,
   "id": "96e8d4ae",
   "metadata": {},
   "outputs": [],
   "source": [
    "import chromadb\n",
    "chroma_client = chromadb.Client()\n",
    "collection_name = 'course_description'"
   ]
  },
  {
   "cell_type": "code",
   "execution_count": null,
   "id": "85c70d88",
   "metadata": {},
   "outputs": [],
   "source": [
    "collection = chroma_client.create_collection(name=collection_name)"
   ]
  },
  {
   "cell_type": "code",
   "execution_count": null,
   "id": "daee81a1",
   "metadata": {},
   "outputs": [],
   "source": [
    "input_df['course_id'].to_list()"
   ]
  },
  {
   "cell_type": "code",
   "execution_count": null,
   "id": "db8d3653",
   "metadata": {},
   "outputs": [],
   "source": [
    "import uuid\n",
    "\n",
    "ids = [str(uuid.uuid4()) for _ in range(len(input_df))]"
   ]
  },
  {
   "cell_type": "code",
   "execution_count": null,
   "id": "bd0e6650",
   "metadata": {},
   "outputs": [],
   "source": [
    "collection.add( \n",
    "    ids = ids,\n",
    "    documents = input_df['title_desc'].to_list(),\n",
    "    metadatas=  input_df.drop(columns=[\"title_desc\", \"title_desc_emb\"], axis=1).to_dict(orient=\"records\"), \n",
    "    embeddings = input_df['title_desc_emb'].to_list()   \n",
    ")"
   ]
  },
  {
   "cell_type": "code",
   "execution_count": null,
   "id": "fab6df96",
   "metadata": {},
   "outputs": [],
   "source": [
    "print(\"Number of docs dumped into vector DB\")\n",
    "print(len(collection.get()['ids']))"
   ]
  },
  {
   "cell_type": "code",
   "execution_count": null,
   "id": "19315497",
   "metadata": {},
   "outputs": [],
   "source": [
    "# using vector db object to initialize a retriever object - to perform vector search/retriev\n",
    "\n",
    "question = 'What is course I should take after \"Internet of Things (IoT)\", I am interested in Machine Learning and AI'\n",
    "collection.query(query_embeddings = generate_embeddings(question),\n",
    "                 n_results=2, \n",
    "                  )\n"
   ]
  },
  {
   "cell_type": "code",
   "execution_count": null,
   "id": "0332c9cc",
   "metadata": {},
   "outputs": [],
   "source": []
  }
 ],
 "metadata": {
  "kernelspec": {
   "display_name": "genai",
   "language": "python",
   "name": "python3"
  },
  "language_info": {
   "codemirror_mode": {
    "name": "ipython",
    "version": 3
   },
   "file_extension": ".py",
   "mimetype": "text/x-python",
   "name": "python",
   "nbconvert_exporter": "python",
   "pygments_lexer": "ipython3",
   "version": "3.12.3"
  }
 },
 "nbformat": 4,
 "nbformat_minor": 5
}
